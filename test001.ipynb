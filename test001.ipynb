{
  "cells": [
    {
       "cell_type": "markdown",
       "metadata": {},
       "source": [
        "<table style=\"float:left; border:none\">\n",
        "   <tr style=\"border:none\">\n",
        "       <td style=\"border:none\">\n",
        "           <a href=\"https://bokeh.org/\">     \n",
        "           <img \n",
        "               src=\"assets/bokeh-transparent.png\" \n",
        "               style=\"width:50px\"\n",
        "           >\n",
        "           </a>    \n",
        "       </td>\n",
        "       <td style=\"border:none\">\n",
        "           <h1>Bokeh Tutorial</h1>\n",
        "       </td>\n",
        "   </tr>\n",
        "</table>\n",
        "\n",
        "<div style=\"float:right;\"><h2>06. Linking and Interactions</h2></div>"
       ]
    },
  ],
  "metadata": {
  "anaconda-cloud": {},
  "kernelspec": {
   "display_name": "Python 3",
   "language": "python",
   "name": "python3"
  },
  "language_info": {
   "codemirror_mode": {
    "name": "ipython",
    "version": 3
   },
   "file_extension": ".py",
   "mimetype": "text/x-python",
   "name": "python",
   "nbconvert_exporter": "python",
   "pygments_lexer": "ipython3",
   "version": "3.8.2"
  }
 },
 "nbformat": 4,
 "nbformat_minor": 4
}
